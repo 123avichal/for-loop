{
 "cells": [
  {
   "cell_type": "markdown",
   "id": "19fb9c02-6868-484b-849b-0b0583430ff8",
   "metadata": {},
   "source": [
    "1. Write a Python program to print the numbers from 1 to 10 using a `for` loop."
   ]
  },
  {
   "cell_type": "code",
   "execution_count": 3,
   "id": "fd258582-13f8-4e70-8ef0-49fb3a25c38a",
   "metadata": {},
   "outputs": [
    {
     "name": "stdout",
     "output_type": "stream",
     "text": [
      "1\n",
      "2\n",
      "3\n",
      "4\n",
      "5\n",
      "6\n",
      "7\n",
      "8\n",
      "9\n",
      "10\n"
     ]
    }
   ],
   "source": [
    "for i in range(1,11):\n",
    "    print(i)"
   ]
  },
  {
   "cell_type": "markdown",
   "id": "be04238d-ef81-410d-b12a-ca66260ca236",
   "metadata": {},
   "source": [
    "2. Create a program that calculates the sum of all numbers in a list using a `for` loop."
   ]
  },
  {
   "cell_type": "code",
   "execution_count": 17,
   "id": "f2ab2af3-254d-45c6-ae37-c3904c043a5e",
   "metadata": {},
   "outputs": [
    {
     "ename": "TypeError",
     "evalue": "'int' object is not iterable",
     "output_type": "error",
     "traceback": [
      "\u001b[0;31m---------------------------------------------------------------------------\u001b[0m",
      "\u001b[0;31mTypeError\u001b[0m                                 Traceback (most recent call last)",
      "Cell \u001b[0;32mIn[17], line 3\u001b[0m\n\u001b[1;32m      1\u001b[0m l \u001b[38;5;241m=\u001b[39m [\u001b[38;5;241m1\u001b[39m,\u001b[38;5;241m2\u001b[39m,\u001b[38;5;241m3\u001b[39m,\u001b[38;5;241m4\u001b[39m,\u001b[38;5;241m5\u001b[39m,\u001b[38;5;241m6\u001b[39m,\u001b[38;5;241m7\u001b[39m]\n\u001b[1;32m      2\u001b[0m \u001b[38;5;28;01mfor\u001b[39;00m i \u001b[38;5;129;01min\u001b[39;00m l:\n\u001b[0;32m----> 3\u001b[0m     \u001b[38;5;28mprint\u001b[39m(\u001b[38;5;28;43msum\u001b[39;49m\u001b[43m(\u001b[49m\u001b[43mi\u001b[49m\u001b[43m)\u001b[49m)\n",
      "\u001b[0;31mTypeError\u001b[0m: 'int' object is not iterable"
     ]
    }
   ],
   "source": [
    "l = [1,2,3,4,5,6,7]\n",
    "for i in l:\n",
    "    print(sum(i))\n",
    "\n",
    "    \n",
    "   "
   ]
  },
  {
   "cell_type": "markdown",
   "id": "22ae6fcc-2893-4bb5-bf73-05d06fed5074",
   "metadata": {},
   "source": [
    "3. Write a program to print the characters of a string in reverse order using a `for` loop."
   ]
  },
  {
   "cell_type": "code",
   "execution_count": 39,
   "id": "5af009fa-a209-4623-b271-08c0cfd24c30",
   "metadata": {},
   "outputs": [
    {
     "name": "stdout",
     "output_type": "stream",
     "text": [
      "lahciva\n"
     ]
    }
   ],
   "source": [
    "s = 'avichal'\n",
    "for i in s:\n",
    "    print(s[::-1])\n",
    "    break\n",
    "      "
   ]
  },
  {
   "cell_type": "markdown",
   "id": "309e6d14-353b-41a3-8c6e-491c06bca4d0",
   "metadata": {},
   "source": [
    "4. Develop a program that finds the factorial of a given number using a `for` loop."
   ]
  },
  {
   "cell_type": "code",
   "execution_count": 50,
   "id": "93eaa678-b0a8-4211-9511-d1b318e8072f",
   "metadata": {},
   "outputs": [
    {
     "name": "stdin",
     "output_type": "stream",
     "text": [
      "Enter a number:  9\n"
     ]
    },
    {
     "name": "stdout",
     "output_type": "stream",
     "text": [
      "Factorial of the given number is:  1\n",
      "Factorial of the given number is:  2\n",
      "Factorial of the given number is:  6\n",
      "Factorial of the given number is:  24\n",
      "Factorial of the given number is:  120\n",
      "Factorial of the given number is:  720\n",
      "Factorial of the given number is:  5040\n",
      "Factorial of the given number is:  40320\n",
      "Factorial of the given number is:  362880\n"
     ]
    }
   ],
   "source": [
    "n = int (input (\"Enter a number: \"))\n",
    "factorial=1\n",
    "if n >= 1:\n",
    "    for i in range (1, n+1):\n",
    "        factorial=factorial*i\n",
    "        print(\"Factorial of the given number is: \", factorial)"
   ]
  },
  {
   "cell_type": "markdown",
   "id": "55999a12-f515-433b-bfbf-fed46fcbdc4b",
   "metadata": {},
   "source": [
    "5. Create a program to print the multiplication table of a given number using a `for` loop."
   ]
  },
  {
   "cell_type": "code",
   "execution_count": 56,
   "id": "f891b641-2468-4bc8-a0e0-24300c107fa0",
   "metadata": {},
   "outputs": [
    {
     "name": "stdin",
     "output_type": "stream",
     "text": [
      "enter the nmber 5\n"
     ]
    },
    {
     "name": "stdout",
     "output_type": "stream",
     "text": [
      "the multiplication of 5 is 5 x 1 = 5\n",
      "the multiplication of 5 is 5 x 2 = 10\n",
      "the multiplication of 5 is 5 x 3 = 15\n",
      "the multiplication of 5 is 5 x 4 = 20\n",
      "the multiplication of 5 is 5 x 5 = 25\n",
      "the multiplication of 5 is 5 x 6 = 30\n",
      "the multiplication of 5 is 5 x 7 = 35\n",
      "the multiplication of 5 is 5 x 8 = 40\n",
      "the multiplication of 5 is 5 x 9 = 45\n",
      "the multiplication of 5 is 5 x 10 = 50\n"
     ]
    }
   ],
   "source": [
    "n =int(input('enter the nmber'))\n",
    "for i in range(0,11):\n",
    "    if n*i:\n",
    "        product= n*i\n",
    "        print(f'the multiplication of {n} is', n , 'x' , i , '=', product)"
   ]
  },
  {
   "cell_type": "markdown",
   "id": "d8aca349-ac37-44f1-8c61-ac6e7e688076",
   "metadata": {},
   "source": [
    "6. Write a program that counts the number of even and odd numbers in a list using a `for` loop."
   ]
  },
  {
   "cell_type": "code",
   "execution_count": 98,
   "id": "ff5de040-acb7-4b62-922d-0d7d0a3187d7",
   "metadata": {},
   "outputs": [
    {
     "name": "stdout",
     "output_type": "stream",
     "text": [
      "the event count is 4\n",
      "the odd count is  4\n"
     ]
    }
   ],
   "source": [
    "l = [1,2,3,4,55,6,7,8]\n",
    "even_count=0\n",
    "odd_count=0\n",
    "for i in l:\n",
    "    if i%2==0:\n",
    "        even_count+=1\n",
    "    else:\n",
    "        odd_count+=1\n",
    "print('the event count is',even_count)\n",
    "print('the odd count is ',odd_count)\n",
    "\n",
    "    "
   ]
  },
  {
   "cell_type": "markdown",
   "id": "6736b545-e3b0-4526-8c59-73b3c9bd12e6",
   "metadata": {},
   "source": [
    "7. Develop a program that prints the squares of numbers from 1 to 5 using a `for` loop."
   ]
  },
  {
   "cell_type": "code",
   "execution_count": 106,
   "id": "c22939d6-97ed-4298-964d-b4e362b8cddb",
   "metadata": {},
   "outputs": [
    {
     "name": "stdout",
     "output_type": "stream",
     "text": [
      "the square of 1 to 5 is 1\n",
      "the square of 1 to 5 is 4\n",
      "the square of 1 to 5 is 9\n",
      "the square of 1 to 5 is 16\n",
      "the square of 1 to 5 is 25\n"
     ]
    }
   ],
   "source": [
    "n = 1,2,3,4,5\n",
    "for i in n:\n",
    "    sq=i**2\n",
    "    print('the square of 1 to 5 is',sq)"
   ]
  },
  {
   "cell_type": "markdown",
   "id": "02eb9cc4-a903-4afd-850d-7d73faf72b7c",
   "metadata": {},
   "source": [
    "8. Create a program to find the length of a string without using the `len()` function."
   ]
  },
  {
   "cell_type": "code",
   "execution_count": 122,
   "id": "9744b020-279d-4d3f-84bb-b129b046885c",
   "metadata": {},
   "outputs": [
    {
     "name": "stdout",
     "output_type": "stream",
     "text": [
      "7\n"
     ]
    }
   ],
   "source": [
    "\n",
    "s = 'avichal'\n",
    "count = 0 \n",
    "for i in s:\n",
    "    count=count+1\n",
    "print(count)"
   ]
  },
  {
   "cell_type": "markdown",
   "id": "2f359038-8dba-49f4-8d68-4261236d248f",
   "metadata": {},
   "source": [
    "9. Write a program that calculates the average of a list of numbers using a `for` loop."
   ]
  },
  {
   "cell_type": "code",
   "execution_count": 129,
   "id": "38f74c64-fab4-4e1d-a479-53860f26bf52",
   "metadata": {},
   "outputs": [
    {
     "name": "stdout",
     "output_type": "stream",
     "text": [
      "the average of list is  3.5\n"
     ]
    }
   ],
   "source": [
    "import numpy as np\n",
    "l = [1,2,3,4,5,6]\n",
    "for i in l:\n",
    "    avg=np.mean(l)\n",
    "print('the average of list is ',avg)"
   ]
  },
  {
   "cell_type": "markdown",
   "id": "fb33ff44-8a9a-49bc-b16d-96b520c9390c",
   "metadata": {},
   "source": [
    "10. Develop a program that prints the first `n` Fibonacci numbers using a `for` loop."
   ]
  },
  {
   "cell_type": "code",
   "execution_count": 131,
   "id": "da1f9a4a-f3b0-4c62-8c79-ff7d1bb15daf",
   "metadata": {},
   "outputs": [],
   "source": [
    "def fib(n):\n",
    "    a,b= 0,1\n",
    "    for i in range(n):\n",
    "        a,b=b,a+b\n",
    "        yield a"
   ]
  },
  {
   "cell_type": "code",
   "execution_count": 133,
   "id": "87ee29bb-612e-48d0-8ebc-6a31197a6422",
   "metadata": {},
   "outputs": [
    {
     "name": "stdout",
     "output_type": "stream",
     "text": [
      "1\n",
      "1\n",
      "2\n",
      "3\n",
      "5\n",
      "8\n",
      "13\n",
      "21\n",
      "34\n",
      "55\n"
     ]
    }
   ],
   "source": [
    "for i in fib(10):\n",
    "    print(i)"
   ]
  },
  {
   "cell_type": "markdown",
   "id": "1c4a4678-ca40-487d-9646-c20c92432a89",
   "metadata": {},
   "source": [
    "## Intermediate Level:"
   ]
  },
  {
   "cell_type": "markdown",
   "id": "4ac39382-304d-4e23-a26f-76e52d134a6f",
   "metadata": {},
   "source": [
    "11. Write a program to check if a given list contains any duplicates using a `for` loop."
   ]
  },
  {
   "cell_type": "code",
   "execution_count": 139,
   "id": "ebd0e7de-5eab-49f7-a197-568b2cea5fb0",
   "metadata": {},
   "outputs": [
    {
     "name": "stdout",
     "output_type": "stream",
     "text": [
      "[1, 2, 3]\n"
     ]
    }
   ],
   "source": [
    "l = [1,2,3,4,5,33,1,2,3]\n",
    "uniqueList = []\n",
    "duplicateList = []\n",
    "for i in l:\n",
    "    if i not in uniqueList:\n",
    "        uniqueList.append(i)\n",
    "    else:\n",
    "        if i not in duplicateList:\n",
    "            duplicateList.append(i)\n",
    "print(duplicateList)"
   ]
  },
  {
   "cell_type": "markdown",
   "id": "73c7807d-e900-4b0a-ac9a-de30210df25d",
   "metadata": {},
   "source": [
    "12. Create a program that prints the prime numbers in a given range using a `for` loop."
   ]
  },
  {
   "cell_type": "code",
   "execution_count": 144,
   "id": "e56c1dda-4993-44d3-ab25-606f0e287e66",
   "metadata": {},
   "outputs": [
    {
     "name": "stdout",
     "output_type": "stream",
     "text": [
      "the prime in given range is  1\n",
      "the prime in given range is  3\n",
      "the prime in given range is  5\n",
      "the prime in given range is  7\n",
      "the prime in given range is  9\n"
     ]
    }
   ],
   "source": [
    "for i in range(1,11,2):\n",
    "    print('the prime in given range is ',i)"
   ]
  },
  {
   "cell_type": "markdown",
   "id": "e2f8eeaf-a6d1-4d84-a2da-30399908a931",
   "metadata": {},
   "source": [
    "13. Develop a program that counts the number of vowels in a string using a `for` loop."
   ]
  },
  {
   "cell_type": "code",
   "execution_count": 174,
   "id": "6e971343-97be-4974-8ee7-4c5629c0d4d6",
   "metadata": {},
   "outputs": [
    {
     "name": "stdout",
     "output_type": "stream",
     "text": [
      "3\n"
     ]
    }
   ],
   "source": [
    "\n",
    "string = \"avichal\"\n",
    "vowels = \"aeiouAEIOU\"\n",
    " \n",
    "count = sum(string.count(vowel) for vowel in vowels)\n",
    "print(count)"
   ]
  },
  {
   "cell_type": "markdown",
   "id": "84164b9d-04b0-4da1-af42-d17116804ee7",
   "metadata": {},
   "source": [
    "14. Write a program to find the maximum element in a 2D list using a nested `for` loop."
   ]
  },
  {
   "cell_type": "code",
   "execution_count": 186,
   "id": "3c518fef-0a30-4ab3-88fc-f7b31196f618",
   "metadata": {},
   "outputs": [
    {
     "name": "stdout",
     "output_type": "stream",
     "text": [
      "44\n"
     ]
    }
   ],
   "source": [
    "l2=[[1,2,3,4,5,44]]\n",
    "for i in l2:\n",
    "    m=max(l2[0])\n",
    "    print(m)"
   ]
  },
  {
   "cell_type": "markdown",
   "id": "890b0e3c-5678-4d73-86a3-9bfdf9586de0",
   "metadata": {},
   "source": [
    "15. Create a program that removes all occurrences of a specific element from a list using a `for` loop."
   ]
  },
  {
   "cell_type": "code",
   "execution_count": 218,
   "id": "7b9c837f-32c5-4486-b4e5-a2296bced26b",
   "metadata": {},
   "outputs": [
    {
     "name": "stdout",
     "output_type": "stream",
     "text": [
      "[1, 2, 4, 5]\n"
     ]
    }
   ],
   "source": [
    "l = [1,2,3,4,5]\n",
    "remove= 3\n",
    "for i in l:\n",
    "    if(i==remove):\n",
    "        l.remove(remove)\n",
    "print(l)"
   ]
  },
  {
   "cell_type": "markdown",
   "id": "d56bcf67-90ff-48c5-9af0-afbd9edf3736",
   "metadata": {},
   "source": [
    "16. Develop a program that generates a multiplication table for numbers from 1 to 5 using a nested `for` loop."
   ]
  },
  {
   "cell_type": "code",
   "execution_count": 234,
   "id": "bf009b72-b195-491b-bc7a-e3fc11d038ca",
   "metadata": {},
   "outputs": [
    {
     "name": "stdout",
     "output_type": "stream",
     "text": [
      " 1  2  3  4  5  6  7  8  9 10 \n",
      "\n",
      " 2  4  6  8 10 12 14 16 18 20 \n",
      "\n",
      " 3  6  9 12 15 18 21 24 27 30 \n",
      "\n",
      " 4  8 12 16 20 24 28 32 36 40 \n",
      "\n",
      " 5 10 15 20 25 30 35 40 45 50 \n",
      "\n"
     ]
    }
   ],
   "source": [
    "rows = 5\n",
    "column =10\n",
    "for i in range(1,rows+1):\n",
    "    for j in range(1,column+1):\n",
    "        c=i*j\n",
    "        print(\"{:2d} \".format(c),end='')\n",
    "    print(\"\\n\")  # line break"
   ]
  },
  {
   "cell_type": "markdown",
   "id": "5cd2f5de-7520-4f6f-b045-8ff550f2fdb9",
   "metadata": {},
   "source": [
    "18. Create a program to print the common elements from two lists using a `for` loop."
   ]
  },
  {
   "cell_type": "code",
   "execution_count": 4,
   "id": "525ec7a0-d908-4a09-aee6-b19cbf00c1a1",
   "metadata": {},
   "outputs": [
    {
     "name": "stdout",
     "output_type": "stream",
     "text": [
      "[12, 22, 34]\n"
     ]
    }
   ],
   "source": [
    "a = [12,22,34,5]\n",
    "b = [12,22,34,555,66,]\n",
    "result= [i for i in a if i in b]\n",
    "print(result)"
   ]
  },
  {
   "cell_type": "markdown",
   "id": "e9359376-d1a5-417c-a704-8ed92fca7f4e",
   "metadata": {},
   "source": [
    "20. Write a program to find the greatest common divisor (GCD) of two numbers using a `for` loop."
   ]
  },
  {
   "cell_type": "code",
   "execution_count": 11,
   "id": "d8fd6f7b-0414-46c4-b86d-64231599e4a6",
   "metadata": {},
   "outputs": [
    {
     "name": "stdout",
     "output_type": "stream",
     "text": [
      "1\n"
     ]
    }
   ],
   "source": [
    "import math\n",
    "a,b= 23,34\n",
    "for i in a,b:\n",
    "    gcd=math.gcd(a,b)\n",
    "print(gcd)"
   ]
  },
  {
   "cell_type": "markdown",
   "id": "527db632-2bea-4793-a1f3-11c5c8a44912",
   "metadata": {},
   "source": [
    "21. Create a program that calculates the sum of the digits of numbers in a list using a list comprehension."
   ]
  },
  {
   "cell_type": "code",
   "execution_count": 1,
   "id": "c7070f30-1a36-4783-843f-cb152c49653d",
   "metadata": {},
   "outputs": [],
   "source": [
    "l =[1,2,3,4]"
   ]
  },
  {
   "cell_type": "code",
   "execution_count": 2,
   "id": "b5ac812b-f5a3-4db7-be4d-c2b3937ee6e9",
   "metadata": {},
   "outputs": [
    {
     "data": {
      "text/plain": [
       "10"
      ]
     },
     "execution_count": 2,
     "metadata": {},
     "output_type": "execute_result"
    }
   ],
   "source": [
    "sum(l)"
   ]
  },
  {
   "cell_type": "markdown",
   "id": "02bfc0e7-86c8-42fd-a6dd-df904bd7264e",
   "metadata": {},
   "source": [
    "22. Write a program to find the prime factors of a given number using a `for` loop and list comprehension."
   ]
  },
  {
   "cell_type": "code",
   "execution_count": 8,
   "id": "dbcc137d-196c-4de9-a7a1-8235d1f374af",
   "metadata": {},
   "outputs": [
    {
     "name": "stdout",
     "output_type": "stream",
     "text": [
      "3\n",
      "3\n",
      "5\n",
      "7\n"
     ]
    }
   ],
   "source": [
    "import math\n",
    "\n",
    "def primeFactors(n):\n",
    "     \n",
    "\n",
    "    while n % 2 == 0:\n",
    "        print (2,)\n",
    "        n = n / 2\n",
    "         \n",
    "\n",
    "    for i in range(3,int(math.sqrt(n))+1,2):\n",
    "         \n",
    "     \n",
    "        while n % i== 0:\n",
    "            print (i,)\n",
    "            n = n / i\n",
    "             \n",
    "\n",
    "    if n > 2:\n",
    "        print (n)\n",
    "         \n",
    "n = 315\n",
    "primeFactors(n)\n",
    " "
   ]
  },
  {
   "cell_type": "markdown",
   "id": "425a7f4f-bab8-487a-b4b8-d1d16d09cc14",
   "metadata": {},
   "source": [
    "23. Develop a program that extracts unique elements from a list and stores them in a new list using a list\n",
    "comprehension."
   ]
  },
  {
   "cell_type": "code",
   "execution_count": 19,
   "id": "05a588ec-8265-47cb-8a3d-7b0c920d51f9",
   "metadata": {},
   "outputs": [
    {
     "name": "stdout",
     "output_type": "stream",
     "text": [
      "['avichal', 'saxena']\n"
     ]
    }
   ],
   "source": [
    "l= [1,2,3,4,'avichal','saxena']\n",
    "unique_element=[]\n",
    "for element in l:\n",
    "    if type(element)==str:\n",
    "           unique_element.append(element)\n",
    "\n",
    "print(unique_element)"
   ]
  },
  {
   "cell_type": "markdown",
   "id": "db99dcf4-8a64-4746-9989-00a2049f126d",
   "metadata": {},
   "source": [
    "24. Create a program that generates a list of all palindromic numbers up to a specified limit using a list\n",
    "comprehension."
   ]
  },
  {
   "cell_type": "code",
   "execution_count": 47,
   "id": "2a5c3253-477a-4ada-943b-19ba56e23feb",
   "metadata": {},
   "outputs": [
    {
     "name": "stdout",
     "output_type": "stream",
     "text": [
      "121\n",
      "111\n",
      "222\n",
      "333\n"
     ]
    }
   ],
   "source": [
    "l = [121,111,222,333,567]\n",
    "for i in l:\n",
    "    if str(i)==str(i)[::-1]:\n",
    "        print(i)"
   ]
  },
  {
   "cell_type": "markdown",
   "id": "fa52c960-b62d-466c-9263-c68ecd1a76d9",
   "metadata": {},
   "source": [
    "25. Write a program to flatten a nested list using list comprehension."
   ]
  },
  {
   "cell_type": "code",
   "execution_count": 54,
   "id": "1df2ba04-89bc-45e0-b1ca-e9521d0feaf5",
   "metadata": {},
   "outputs": [
    {
     "name": "stdout",
     "output_type": "stream",
     "text": [
      "[1, 2, 3, 4, 12, 3, 4, 5, 1, 2, 3, 4, 12, 3]\n"
     ]
    }
   ],
   "source": [
    "l = [1,2,3,4],[12,3,4,5],[1,2,3,4],[12,3]\n",
    "flat_list = [num for sublist in l for num in sublist]\n",
    "print(flat_list)\n"
   ]
  },
  {
   "cell_type": "markdown",
   "id": "dcc85a8e-28a3-4795-87aa-a8e3e07342af",
   "metadata": {},
   "source": [
    "26. Develop a program that computes the sum of even and odd numbers in a list separately using list\n",
    "comprehension."
   ]
  },
  {
   "cell_type": "code",
   "execution_count": 61,
   "id": "e5f4963f-dd1b-45c3-99d4-5d8d0b32931d",
   "metadata": {},
   "outputs": [
    {
     "name": "stdout",
     "output_type": "stream",
     "text": [
      "even_list 830\n",
      "odd_list 99\n"
     ]
    }
   ],
   "source": [
    "l = [122,23,4,4,5,666,35,3,33,34]\n",
    "even_list=[]\n",
    "odd_list = []\n",
    "for element in l:\n",
    "    if element%2==0:\n",
    "        even_list.append(element)\n",
    "        even=sum(even_list)\n",
    "    else:\n",
    "        element%2!=0\n",
    "        odd_list.append(element)\n",
    "        odd=sum(odd_list)\n",
    "print('even_list',even)\n",
    "print('odd_list',odd)\n",
    "        \n",
    "        "
   ]
  },
  {
   "cell_type": "markdown",
   "id": "9e60c3f5-f88a-4150-be5e-b8991f284227",
   "metadata": {},
   "source": [
    "27. Create a program that generates a list of squares of odd numbers between 1 and 10 using list\n",
    "comprehension."
   ]
  },
  {
   "cell_type": "code",
   "execution_count": 75,
   "id": "842e74b5-d3ec-4a04-bf18-920f5fdda884",
   "metadata": {},
   "outputs": [
    {
     "data": {
      "text/plain": [
       "[1, 4, 9, 25, 49]"
      ]
     },
     "execution_count": 75,
     "metadata": {},
     "output_type": "execute_result"
    }
   ],
   "source": [
    "l = [1,2,3,5,7]\n",
    "list(map(lambda x : x**2 ,l))"
   ]
  },
  {
   "cell_type": "markdown",
   "id": "a472b1ff-ab3e-48c3-b1e7-a15cc365962a",
   "metadata": {},
   "source": [
    "28. Write a program that combines two lists into a dictionary using list comprehension."
   ]
  },
  {
   "cell_type": "code",
   "execution_count": 89,
   "id": "33c78df9-1883-492b-a2e1-8383c99b8900",
   "metadata": {},
   "outputs": [
    {
     "name": "stdout",
     "output_type": "stream",
     "text": [
      "Original key list is : ['Rash', 'Kil', 'Varsha']\n",
      "Original value list is : [1, 4, 5]\n",
      "Resultant dictionary is : {'Rash': 1, 'Kil': 4, 'Varsha': 5}\n"
     ]
    }
   ],
   "source": [
    "test_keys = [\"Rash\", \"Kil\", \"Varsha\"]\n",
    "test_values = [1, 4, 5]\n",
    " \n",
    "\n",
    "print (\"Original key list is : \" + str(test_keys))\n",
    "print (\"Original value list is : \" + str(test_values))\n",
    " \n",
    "tuples = [(key, value)\n",
    "          for i, (key, value) in enumerate(zip(test_keys, test_values))]\n",
    " \n",
    "\n",
    "res = dict(tuples)\n",
    " \n",
    "print (\"Resultant dictionary is : \" + str(res))"
   ]
  },
  {
   "cell_type": "markdown",
   "id": "bf8e51f5-35d1-41f5-bfac-3a8012f7b5f4",
   "metadata": {},
   "source": [
    "29. Develop a program that extracts the vowels from a string and stores them in a list using list comprehension."
   ]
  },
  {
   "cell_type": "code",
   "execution_count": 104,
   "id": "e87a6729-4604-4c96-9931-d39ce734b118",
   "metadata": {},
   "outputs": [
    {
     "name": "stdout",
     "output_type": "stream",
     "text": [
      "['avichal']\n"
     ]
    }
   ],
   "source": [
    "s = 'avichal'\n",
    "l = []\n",
    "\n",
    "if 'a' or 'e' or  'i' or 'o' or 'u' in s :\n",
    "    l.append(s)\n",
    "print(l)"
   ]
  },
  {
   "cell_type": "markdown",
   "id": "50d6e016-07e1-42e7-ad55-769d73ca757c",
   "metadata": {},
   "source": [
    "30. Create a program that removes all non-numeric characters from a list of strings using list comprehension."
   ]
  },
  {
   "cell_type": "code",
   "execution_count": 108,
   "id": "321ea5ba-8799-4162-a66b-c8c3c34a8fbc",
   "metadata": {},
   "outputs": [
    {
     "name": "stdout",
     "output_type": "stream",
     "text": [
      "['avi', 'avichal', 'saxena']\n"
     ]
    }
   ],
   "source": [
    "import re\n",
    " \n",
    "def remove(list):\n",
    "    pattern = '[0-9]'\n",
    "    list = [re.sub(pattern, '', i) for i in list]\n",
    "    return list\n",
    "list = ['4avi', '3avichal', '4saxena']\n",
    "print(remove(list))"
   ]
  },
  {
   "cell_type": "markdown",
   "id": "a0c0d62b-82e6-4406-a76d-47106b9d659a",
   "metadata": {},
   "source": [
    "31. Write a program to generate a list of prime numbers using the Sieve of Eratosthenes algorithm and list\n",
    "comprehension."
   ]
  },
  {
   "cell_type": "code",
   "execution_count": 112,
   "id": "6486f4a1-ba16-4370-ad16-9541262a80f5",
   "metadata": {},
   "outputs": [
    {
     "name": "stdout",
     "output_type": "stream",
     "text": [
      "Following are the prime numbers smaller\n",
      "than or equal to 30\n",
      "2\n",
      "3\n",
      "5\n",
      "7\n",
      "11\n",
      "13\n",
      "17\n",
      "19\n",
      "23\n",
      "29\n"
     ]
    }
   ],
   "source": [
    "\n",
    "def SieveOfEratosthenes(num):\n",
    "\tprime = [True for i in range(num+1)]\n",
    "\n",
    "\tp = 2\n",
    "\twhile (p * p <= num):\n",
    "\n",
    "\t\t\n",
    "\t\tif (prime[p] == True):\n",
    "\n",
    "\t\t\n",
    "\t\t\tfor i in range(p * p, num+1, p):\n",
    "\t\t\t\tprime[i] = False\n",
    "\t\tp += 1\n",
    "\n",
    "\n",
    "\tfor p in range(2, num+1):\n",
    "\t\tif prime[p]:\n",
    "\t\t\tprint(p)\n",
    "\n",
    "\n",
    "\n",
    "if __name__ == '__main__':\n",
    "\tnum = 30\n",
    "\tprint(\"Following are the prime numbers smaller\"),\n",
    "\tprint(\"than or equal to\", num)\n",
    "\tSieveOfEratosthenes(num)\n"
   ]
  },
  {
   "cell_type": "markdown",
   "id": "2e532791-9b55-433c-8b86-44650b3d8362",
   "metadata": {},
   "source": [
    "32. Create a program that generates a list of all Pythagorean triplets up to a specified limit using list\n",
    "comprehension."
   ]
  },
  {
   "cell_type": "code",
   "execution_count": 113,
   "id": "3b52e4a4-da18-402e-9a9f-879e7f2e000e",
   "metadata": {},
   "outputs": [
    {
     "name": "stdout",
     "output_type": "stream",
     "text": [
      "3 4 5\n",
      "8 6 10\n",
      "5 12 13\n",
      "15 8 17\n",
      "12 16 20\n"
     ]
    }
   ],
   "source": [
    "def pythagoreanTriplets(limits) :\n",
    "    c, m = 0, 2\n",
    "\n",
    "    while c < limits :\n",
    "         \n",
    "       \n",
    "        for n in range(1, m) :\n",
    "            a = m * m - n * n\n",
    "            b = 2 * m * n\n",
    "            c = m * m + n * n\n",
    " \n",
    "          \n",
    "            if c > limits :\n",
    "                break\n",
    " \n",
    "            print(a, b, c)\n",
    " \n",
    "        m = m + 1\n",
    " \n",
    " \n",
    "\n",
    "if __name__ == '__main__' :\n",
    "     \n",
    "    limit = 20\n",
    "    pythagoreanTriplets(limit)"
   ]
  },
  {
   "cell_type": "markdown",
   "id": "4b33f9cf-768a-45b0-a606-cfb43ebc8fc7",
   "metadata": {},
   "source": [
    "34. Write a program that calculates the mean, median, and mode of a list of numbers using list\n",
    "comprehension."
   ]
  },
  {
   "cell_type": "code",
   "execution_count": 121,
   "id": "5a85b0db-f968-42b8-9b63-81b7bcbc321b",
   "metadata": {},
   "outputs": [
    {
     "name": "stdout",
     "output_type": "stream",
     "text": [
      "mean, median, ,mode 3.2 3.0 ModeResult(mode=array([1]), count=array([1]))\n"
     ]
    },
    {
     "name": "stderr",
     "output_type": "stream",
     "text": [
      "/tmp/ipykernel_365/3722788817.py:6: FutureWarning: Unlike other reduction functions (e.g. `skew`, `kurtosis`), the default behavior of `mode` typically preserves the axis it acts along. In SciPy 1.11.0, this behavior will change: the default value of `keepdims` will become False, the `axis` over which the statistic is taken will be eliminated, and the value None will no longer be accepted. Set `keepdims` to True or False to avoid this warning.\n",
      "  mode=stats.mode(l)\n"
     ]
    }
   ],
   "source": [
    "import numpy as np\n",
    "from scipy import stats \n",
    "l = [1,2,3,4,6]\n",
    "mean=np.mean(l)\n",
    "median = np.median(l)\n",
    "mode=stats.mode(l)\n",
    "print('mean, median, ,mode',mean,median,mode)\n"
   ]
  },
  {
   "cell_type": "markdown",
   "id": "2a15b51b-cff2-4f83-9cf7-22a40ff5914a",
   "metadata": {},
   "source": [
    "35. Create a program that generates Pascal's triangle up to a specified number of rows using list\n",
    "comprehension."
   ]
  },
  {
   "cell_type": "code",
   "execution_count": 122,
   "id": "2d603ade-30c3-432b-a973-240e4f22c69a",
   "metadata": {},
   "outputs": [
    {
     "name": "stdout",
     "output_type": "stream",
     "text": [
      "      1 \n",
      "     1 1 \n",
      "    1 2 1 \n",
      "   1 3 3 1 \n",
      "  1 4 6 4 1 \n"
     ]
    }
   ],
   "source": [
    "from math import factorial\n",
    " \n",
    "n = 5\n",
    "for i in range(n):\n",
    "    for j in range(n-i+1):\n",
    " \n",
    "       \n",
    "        print(end=\" \")\n",
    " \n",
    "    for j in range(i+1):\n",
    " \n",
    "\n",
    "        print(factorial(i)//(factorial(j)*factorial(i-j)), end=\" \")\n",
    " \n",
    "    # for new line\n",
    "    print()"
   ]
  },
  {
   "cell_type": "markdown",
   "id": "479ca74a-9c29-4011-bdfb-74c1e0fe374f",
   "metadata": {},
   "source": [
    "37. Write a program that finds the longest word in a sentence using list comprehension."
   ]
  },
  {
   "cell_type": "code",
   "execution_count": 124,
   "id": "81671f71-5c25-4dfb-8dfe-33980b910968",
   "metadata": {},
   "outputs": [
    {
     "data": {
      "text/plain": [
       "'avichal'"
      ]
     },
     "execution_count": 124,
     "metadata": {},
     "output_type": "execute_result"
    }
   ],
   "source": [
    "l = ['avichal','avi']\n",
    "max(l,key=len)"
   ]
  },
  {
   "cell_type": "markdown",
   "id": "63f749d2-01f9-4594-aa44-9b5a6fe65609",
   "metadata": {},
   "source": [
    "39. Develop a program that calculates the sum of the digits of numbers from 1 to 1000 using list\n",
    "comprehension."
   ]
  },
  {
   "cell_type": "code",
   "execution_count": 135,
   "id": "73acd563-8870-4e72-b605-1175c46b2c64",
   "metadata": {},
   "outputs": [
    {
     "data": {
      "text/plain": [
       "499500"
      ]
     },
     "execution_count": 135,
     "metadata": {},
     "output_type": "execute_result"
    }
   ],
   "source": [
    "from functools import reduce \n",
    "l = range(1,1000)\n",
    "l2=reduce(lambda x,y : x+y,l)\n",
    "l2"
   ]
  },
  {
   "cell_type": "markdown",
   "id": "ce3731a9-904b-441f-a8c1-af51134dcd7a",
   "metadata": {},
   "source": [
    "40. Write a program that generates a list of prime palindromic numbers using list comprehension."
   ]
  },
  {
   "cell_type": "code",
   "execution_count": 136,
   "id": "5e530ff4-df15-407e-97d2-e7e2eea7581d",
   "metadata": {},
   "outputs": [
    {
     "name": "stdout",
     "output_type": "stream",
     "text": [
      "222\n",
      "444\n"
     ]
    }
   ],
   "source": [
    "l = [121,131,111,222,444]\n",
    "for i in l :\n",
    "    if i%2==0:\n",
    "        if str(i)==str(i)[::-1]:\n",
    "            print(i)"
   ]
  },
  {
   "cell_type": "code",
   "execution_count": null,
   "id": "81077d86-8adf-43fb-8b34-8d6a669a82aa",
   "metadata": {},
   "outputs": [],
   "source": []
  }
 ],
 "metadata": {
  "kernelspec": {
   "display_name": "Python 3 (ipykernel)",
   "language": "python",
   "name": "python3"
  },
  "language_info": {
   "codemirror_mode": {
    "name": "ipython",
    "version": 3
   },
   "file_extension": ".py",
   "mimetype": "text/x-python",
   "name": "python",
   "nbconvert_exporter": "python",
   "pygments_lexer": "ipython3",
   "version": "3.10.8"
  }
 },
 "nbformat": 4,
 "nbformat_minor": 5
}
